{
 "cells": [
  {
   "cell_type": "code",
   "execution_count": 67,
   "id": "fb855736",
   "metadata": {},
   "outputs": [],
   "source": [
    "import pygsheets\n",
    "def write_to_gsheet(service_file_path, spreadsheet_id, sheet_name, data_df):\n",
    "    \"\"\"\n",
    "    this function takes data_df and writes it under spreadsheet_id\n",
    "    and sheet_name using your credentials under service_file_path\n",
    "    \"\"\"\n",
    "    gc = pygsheets.authorize(service_file=service_file_path)\n",
    "    sh = gc.open_by_key(spreadsheet_id)\n",
    "    try:\n",
    "        sh.add_worksheet(sheet_name)\n",
    "    except:\n",
    "        pass\n",
    "    wks_write = sh.worksheet_by_title(sheet_name)\n",
    "    wks_write.clear('A1',None,'*')\n",
    "    wks_write.set_dataframe(data_df, (1,1), encoding='utf-8', fit=True)\n",
    "    wks_write.frozen_rows = 1"
   ]
  },
  {
   "cell_type": "code",
   "execution_count": 68,
   "id": "cdc2494d",
   "metadata": {},
   "outputs": [
    {
     "name": "stdout",
     "output_type": "stream",
     "text": [
      "I'm a member of 83 teams\n"
     ]
    }
   ],
   "source": [
    "import json\n",
    "import supervisely as sly\n",
    "import pandas as pd\n",
    "\n",
    "\n",
    "# put your values (example is for Community edition) \n",
    "# learn more here - https://developer.supervise.ly/getting-started/first-steps/basics-of-authentication\n",
    "mytoken = 'jXCVEbySH8moyTXLihkoE1k9UX4fTMDUYkHMJgUoIzx0EnyS5outN8de6UvUCjdGfRUr8D553l8MhTLQkzDOm22bKTsJulgDiGzy2Z4yYEmFmhcsL8k37Af837qXb2UO'\n",
    "\n",
    "api = sly.Api(server_address=\"http://surgai-surgery.com\", token=mytoken)\n",
    "\n",
    "# let's test that authentication was successful and we can communicate with the platform\n",
    "my_teams = api.team.get_list()\n",
    "print(f\"I'm a member of {len(my_teams)} teams\")"
   ]
  },
  {
   "cell_type": "code",
   "execution_count": 70,
   "id": "5ccfbf2c",
   "metadata": {},
   "outputs": [
    {
     "name": "stdout",
     "output_type": "stream",
     "text": [
      "2 datasets in Endometriosis_WS2 project\n",
      "1 datasets in Endometriosis_WS3 project\n",
      "1 datasets in Endometriosis_WS1 project\n",
      "2 datasets in Endometriosis_WS4 project\n",
      "1 datasets in Endometriosis_WS5 project\n",
      "3 datasets in Endometriosis_WS6 project\n"
     ]
    }
   ],
   "source": [
    "tm = api.team.get_info_by_name ('Endometriosis')\n",
    "ws = api.workspace.get_info_by_name (tm.id , 'Data annotation')\n",
    "prs = api.project.get_list(ws.id)\n",
    "ii= 1\n",
    "\n",
    "prList=[]; dsList = []; vdList = []; nframesList=[]; nAnnframesList=[]\n",
    "        \n",
    "for pr in prs:\n",
    "    dss = api.dataset.get_list(pr.id)\n",
    "    print('%d datasets in %s project' %(len(dss),pr.name))\n",
    "    \n",
    "    for ds in dss:\n",
    "        vds = api.video.get_list(ds.id)\n",
    "        nframes = 0\n",
    "        nAnnframes = 0\n",
    "        for vd in vds:\n",
    "#           #print('%d : Total number of frames for %s'%(len(vd.frames_to_timecodes),vd.name))\n",
    "            ans = api.video.annotation.download(vd.id)\n",
    "            nframes = ans['framesCount'] + nframes # count Total number of frames in the dataset\n",
    "            nAnnframes = nAnnframes + len(ans['frames']) #count n of annotatedframes in the dataset\n",
    "        prList.append(pr.name)\n",
    "        dsList.append(ds.name)\n",
    "        vdList.append(len(vds))\n",
    "        nframesList.append(nframes)\n",
    "        nAnnframesList.append(nAnnframes)\n",
    "      "
   ]
  },
  {
   "cell_type": "code",
   "execution_count": 71,
   "id": "dbd85057",
   "metadata": {},
   "outputs": [
    {
     "name": "stdout",
     "output_type": "stream",
     "text": [
      "              Project     Dataset  n. videos  n. Frames  n. Annotated Frames\n",
      "0   Endometriosis_WS2  Semmelweis         28      25568                 2127\n",
      "1   Endometriosis_WS2      CHU-CF         16      10558                 2425\n",
      "2   Endometriosis_WS3  Semmelweis         14      27169                  682\n",
      "3   Endometriosis_WS1      CHU-CF         56      77356                 2668\n",
      "4   Endometriosis_WS4  Semmelweis         70      52889                 4566\n",
      "5   Endometriosis_WS4      CHU-CF         24      12702                 1055\n",
      "6   Endometriosis_WS5   Sao Paulo         15      12185                  705\n",
      "7   Endometriosis_WS6   Sao Paulo         64      69025                   85\n",
      "8   Endometriosis_WS6  Semmelweis          8       9584                    0\n",
      "9   Endometriosis_WS6      Athens         10      25520                    0\n",
      "10              Total                    305     322556                14313\n"
     ]
    }
   ],
   "source": [
    "prCol = 'Project'; dsCol = 'Dataset';vdCol = 'n. videos';nfCol = 'n. Frames';nAnnCol = 'n. Annotated Frames'\n",
    "prList.append('Total')\n",
    "dsList.append('')\n",
    "vdList.append(sum(vdList))\n",
    "nframesList.append(sum(nframesList))\n",
    "nAnnframesList.append(sum(nAnnframesList))\n",
    "\n",
    "data_df = pd.DataFrame({prCol:prList,dsCol:dsList,vdCol:vdList,nfCol:nframesList,nAnnCol:nAnnframesList})\n",
    "print (data_df)\n",
    "sfpath = 'C:/Users/SurgAR-User/OneDrive/Documents/Saman/mypythonfolder/supervisely-python-sdk-example/my-gpysheets-3d8d13442005.json'\n",
    "sheetID = '1R_2NpRg40U08F2gl4dM0OzXcN4f0IQaW3yfXZmBWqCg'\n",
    "sname = 'Sheet1'\n",
    "write_to_gsheet(sfpath, sheetID, sname, data_df)"
   ]
  }
 ],
 "metadata": {
  "kernelspec": {
   "display_name": "pandasenv",
   "language": "python",
   "name": "pandasenv"
  },
  "language_info": {
   "codemirror_mode": {
    "name": "ipython",
    "version": 3
   },
   "file_extension": ".py",
   "mimetype": "text/x-python",
   "name": "python",
   "nbconvert_exporter": "python",
   "pygments_lexer": "ipython3",
   "version": "3.9.12"
  }
 },
 "nbformat": 4,
 "nbformat_minor": 5
}
